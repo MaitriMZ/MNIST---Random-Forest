{
 "cells": [
  {
   "cell_type": "code",
   "execution_count": 1,
   "id": "e720f7a0",
   "metadata": {},
   "outputs": [],
   "source": [
    "import scipy.io\n",
    "import numpy as np\n",
    "import matplotlib.pyplot as plt\n",
    "import pandas as pd\n",
    "from sklearn import tree\n",
    "from sklearn.tree import DecisionTreeClassifier\n",
    "from sklearn.ensemble import RandomForestClassifier\n",
    "from sklearn.metrics import f1_score, accuracy_score, precision_score, recall_score\n",
    "from sklearn.metrics import classification_report\n",
    "from sklearn.model_selection import GridSearchCV\n",
    "from sklearn.metrics import confusion_matrix, ConfusionMatrixDisplay"
   ]
  },
  {
   "cell_type": "markdown",
   "id": "85f04aa0",
   "metadata": {},
   "source": [
    "# Please note that there is no splitting of dataset required as I already have two different sets here"
   ]
  },
  {
   "cell_type": "markdown",
   "id": "46d6fb98",
   "metadata": {},
   "source": [
    "### Load the MNIST dataset"
   ]
  },
  {
   "cell_type": "code",
   "execution_count": 2,
   "id": "13b92be7",
   "metadata": {},
   "outputs": [],
   "source": [
    "# load our dataset\n",
    "train_data = pd.read_csv('mnist_train.csv')\n"
   ]
  },
  {
   "cell_type": "markdown",
   "id": "4d90256c",
   "metadata": {},
   "source": [
    "### Split the training data into a training and development(test) set.\n",
    "This is not required as mycvs files are seprate for Training and Test data. I have already discussed this with Alfred and he is ok with it"
   ]
  },
  {
   "cell_type": "markdown",
   "id": "f0890acc",
   "metadata": {},
   "source": [
    "### Add a comment explaining the purpose of the train, development(test) and test(validation) sets\n",
    "Train: Training dataset is used to train your classification / regression model. Training dataset needs to have a variety of data overall so that you get a good accuracy when you try to get predictions from it\n",
    "Development: The development set is used to see whether the model seems to be generalising well to data that is not in the training set. This makes it possible to spot and try to remedy under- or overfitting.\n",
    "Test: Only at the end do we test the model on totally unseen data. Another term for this third type of held-out data is the validation set"
   ]
  },
  {
   "cell_type": "code",
   "execution_count": 3,
   "id": "dee49619",
   "metadata": {},
   "outputs": [
    {
     "data": {
      "text/html": [
       "<div>\n",
       "<style scoped>\n",
       "    .dataframe tbody tr th:only-of-type {\n",
       "        vertical-align: middle;\n",
       "    }\n",
       "\n",
       "    .dataframe tbody tr th {\n",
       "        vertical-align: top;\n",
       "    }\n",
       "\n",
       "    .dataframe thead th {\n",
       "        text-align: right;\n",
       "    }\n",
       "</style>\n",
       "<table border=\"1\" class=\"dataframe\">\n",
       "  <thead>\n",
       "    <tr style=\"text-align: right;\">\n",
       "      <th></th>\n",
       "      <th>5</th>\n",
       "      <th>0</th>\n",
       "      <th>0.1</th>\n",
       "      <th>0.2</th>\n",
       "      <th>0.3</th>\n",
       "      <th>0.4</th>\n",
       "      <th>0.5</th>\n",
       "      <th>0.6</th>\n",
       "      <th>0.7</th>\n",
       "      <th>0.8</th>\n",
       "      <th>...</th>\n",
       "      <th>0.608</th>\n",
       "      <th>0.609</th>\n",
       "      <th>0.610</th>\n",
       "      <th>0.611</th>\n",
       "      <th>0.612</th>\n",
       "      <th>0.613</th>\n",
       "      <th>0.614</th>\n",
       "      <th>0.615</th>\n",
       "      <th>0.616</th>\n",
       "      <th>0.617</th>\n",
       "    </tr>\n",
       "  </thead>\n",
       "  <tbody>\n",
       "    <tr>\n",
       "      <th>0</th>\n",
       "      <td>0</td>\n",
       "      <td>0</td>\n",
       "      <td>0</td>\n",
       "      <td>0</td>\n",
       "      <td>0</td>\n",
       "      <td>0</td>\n",
       "      <td>0</td>\n",
       "      <td>0</td>\n",
       "      <td>0</td>\n",
       "      <td>0</td>\n",
       "      <td>...</td>\n",
       "      <td>0</td>\n",
       "      <td>0</td>\n",
       "      <td>0</td>\n",
       "      <td>0</td>\n",
       "      <td>0</td>\n",
       "      <td>0</td>\n",
       "      <td>0</td>\n",
       "      <td>0</td>\n",
       "      <td>0</td>\n",
       "      <td>0</td>\n",
       "    </tr>\n",
       "    <tr>\n",
       "      <th>1</th>\n",
       "      <td>4</td>\n",
       "      <td>0</td>\n",
       "      <td>0</td>\n",
       "      <td>0</td>\n",
       "      <td>0</td>\n",
       "      <td>0</td>\n",
       "      <td>0</td>\n",
       "      <td>0</td>\n",
       "      <td>0</td>\n",
       "      <td>0</td>\n",
       "      <td>...</td>\n",
       "      <td>0</td>\n",
       "      <td>0</td>\n",
       "      <td>0</td>\n",
       "      <td>0</td>\n",
       "      <td>0</td>\n",
       "      <td>0</td>\n",
       "      <td>0</td>\n",
       "      <td>0</td>\n",
       "      <td>0</td>\n",
       "      <td>0</td>\n",
       "    </tr>\n",
       "    <tr>\n",
       "      <th>2</th>\n",
       "      <td>1</td>\n",
       "      <td>0</td>\n",
       "      <td>0</td>\n",
       "      <td>0</td>\n",
       "      <td>0</td>\n",
       "      <td>0</td>\n",
       "      <td>0</td>\n",
       "      <td>0</td>\n",
       "      <td>0</td>\n",
       "      <td>0</td>\n",
       "      <td>...</td>\n",
       "      <td>0</td>\n",
       "      <td>0</td>\n",
       "      <td>0</td>\n",
       "      <td>0</td>\n",
       "      <td>0</td>\n",
       "      <td>0</td>\n",
       "      <td>0</td>\n",
       "      <td>0</td>\n",
       "      <td>0</td>\n",
       "      <td>0</td>\n",
       "    </tr>\n",
       "    <tr>\n",
       "      <th>3</th>\n",
       "      <td>9</td>\n",
       "      <td>0</td>\n",
       "      <td>0</td>\n",
       "      <td>0</td>\n",
       "      <td>0</td>\n",
       "      <td>0</td>\n",
       "      <td>0</td>\n",
       "      <td>0</td>\n",
       "      <td>0</td>\n",
       "      <td>0</td>\n",
       "      <td>...</td>\n",
       "      <td>0</td>\n",
       "      <td>0</td>\n",
       "      <td>0</td>\n",
       "      <td>0</td>\n",
       "      <td>0</td>\n",
       "      <td>0</td>\n",
       "      <td>0</td>\n",
       "      <td>0</td>\n",
       "      <td>0</td>\n",
       "      <td>0</td>\n",
       "    </tr>\n",
       "    <tr>\n",
       "      <th>4</th>\n",
       "      <td>2</td>\n",
       "      <td>0</td>\n",
       "      <td>0</td>\n",
       "      <td>0</td>\n",
       "      <td>0</td>\n",
       "      <td>0</td>\n",
       "      <td>0</td>\n",
       "      <td>0</td>\n",
       "      <td>0</td>\n",
       "      <td>0</td>\n",
       "      <td>...</td>\n",
       "      <td>0</td>\n",
       "      <td>0</td>\n",
       "      <td>0</td>\n",
       "      <td>0</td>\n",
       "      <td>0</td>\n",
       "      <td>0</td>\n",
       "      <td>0</td>\n",
       "      <td>0</td>\n",
       "      <td>0</td>\n",
       "      <td>0</td>\n",
       "    </tr>\n",
       "  </tbody>\n",
       "</table>\n",
       "<p>5 rows × 785 columns</p>\n",
       "</div>"
      ],
      "text/plain": [
       "   5  0  0.1  0.2  0.3  0.4  0.5  0.6  0.7  0.8  ...  0.608  0.609  0.610  \\\n",
       "0  0  0    0    0    0    0    0    0    0    0  ...      0      0      0   \n",
       "1  4  0    0    0    0    0    0    0    0    0  ...      0      0      0   \n",
       "2  1  0    0    0    0    0    0    0    0    0  ...      0      0      0   \n",
       "3  9  0    0    0    0    0    0    0    0    0  ...      0      0      0   \n",
       "4  2  0    0    0    0    0    0    0    0    0  ...      0      0      0   \n",
       "\n",
       "   0.611  0.612  0.613  0.614  0.615  0.616  0.617  \n",
       "0      0      0      0      0      0      0      0  \n",
       "1      0      0      0      0      0      0      0  \n",
       "2      0      0      0      0      0      0      0  \n",
       "3      0      0      0      0      0      0      0  \n",
       "4      0      0      0      0      0      0      0  \n",
       "\n",
       "[5 rows x 785 columns]"
      ]
     },
     "execution_count": 3,
     "metadata": {},
     "output_type": "execute_result"
    }
   ],
   "source": [
    "train_data.head()"
   ]
  },
  {
   "cell_type": "code",
   "execution_count": 4,
   "id": "73a948ec",
   "metadata": {},
   "outputs": [
    {
     "data": {
      "text/html": [
       "<div>\n",
       "<style scoped>\n",
       "    .dataframe tbody tr th:only-of-type {\n",
       "        vertical-align: middle;\n",
       "    }\n",
       "\n",
       "    .dataframe tbody tr th {\n",
       "        vertical-align: top;\n",
       "    }\n",
       "\n",
       "    .dataframe thead th {\n",
       "        text-align: right;\n",
       "    }\n",
       "</style>\n",
       "<table border=\"1\" class=\"dataframe\">\n",
       "  <thead>\n",
       "    <tr style=\"text-align: right;\">\n",
       "      <th></th>\n",
       "      <th>5</th>\n",
       "      <th>0</th>\n",
       "      <th>0.1</th>\n",
       "      <th>0.2</th>\n",
       "      <th>0.3</th>\n",
       "      <th>0.4</th>\n",
       "      <th>0.5</th>\n",
       "      <th>0.6</th>\n",
       "      <th>0.7</th>\n",
       "      <th>0.8</th>\n",
       "      <th>...</th>\n",
       "      <th>0.608</th>\n",
       "      <th>0.609</th>\n",
       "      <th>0.610</th>\n",
       "      <th>0.611</th>\n",
       "      <th>0.612</th>\n",
       "      <th>0.613</th>\n",
       "      <th>0.614</th>\n",
       "      <th>0.615</th>\n",
       "      <th>0.616</th>\n",
       "      <th>0.617</th>\n",
       "    </tr>\n",
       "  </thead>\n",
       "  <tbody>\n",
       "    <tr>\n",
       "      <th>count</th>\n",
       "      <td>59999.000000</td>\n",
       "      <td>59999.0</td>\n",
       "      <td>59999.0</td>\n",
       "      <td>59999.0</td>\n",
       "      <td>59999.0</td>\n",
       "      <td>59999.0</td>\n",
       "      <td>59999.0</td>\n",
       "      <td>59999.0</td>\n",
       "      <td>59999.0</td>\n",
       "      <td>59999.0</td>\n",
       "      <td>...</td>\n",
       "      <td>59999.000000</td>\n",
       "      <td>59999.000000</td>\n",
       "      <td>59999.000000</td>\n",
       "      <td>59999.000000</td>\n",
       "      <td>59999.000000</td>\n",
       "      <td>59999.000000</td>\n",
       "      <td>59999.0</td>\n",
       "      <td>59999.0</td>\n",
       "      <td>59999.0</td>\n",
       "      <td>59999.0</td>\n",
       "    </tr>\n",
       "    <tr>\n",
       "      <th>mean</th>\n",
       "      <td>4.453924</td>\n",
       "      <td>0.0</td>\n",
       "      <td>0.0</td>\n",
       "      <td>0.0</td>\n",
       "      <td>0.0</td>\n",
       "      <td>0.0</td>\n",
       "      <td>0.0</td>\n",
       "      <td>0.0</td>\n",
       "      <td>0.0</td>\n",
       "      <td>0.0</td>\n",
       "      <td>...</td>\n",
       "      <td>0.200437</td>\n",
       "      <td>0.088868</td>\n",
       "      <td>0.045634</td>\n",
       "      <td>0.019284</td>\n",
       "      <td>0.015117</td>\n",
       "      <td>0.002000</td>\n",
       "      <td>0.0</td>\n",
       "      <td>0.0</td>\n",
       "      <td>0.0</td>\n",
       "      <td>0.0</td>\n",
       "    </tr>\n",
       "    <tr>\n",
       "      <th>std</th>\n",
       "      <td>2.889294</td>\n",
       "      <td>0.0</td>\n",
       "      <td>0.0</td>\n",
       "      <td>0.0</td>\n",
       "      <td>0.0</td>\n",
       "      <td>0.0</td>\n",
       "      <td>0.0</td>\n",
       "      <td>0.0</td>\n",
       "      <td>0.0</td>\n",
       "      <td>0.0</td>\n",
       "      <td>...</td>\n",
       "      <td>6.042522</td>\n",
       "      <td>3.956222</td>\n",
       "      <td>2.839868</td>\n",
       "      <td>1.686784</td>\n",
       "      <td>1.678297</td>\n",
       "      <td>0.346603</td>\n",
       "      <td>0.0</td>\n",
       "      <td>0.0</td>\n",
       "      <td>0.0</td>\n",
       "      <td>0.0</td>\n",
       "    </tr>\n",
       "    <tr>\n",
       "      <th>min</th>\n",
       "      <td>0.000000</td>\n",
       "      <td>0.0</td>\n",
       "      <td>0.0</td>\n",
       "      <td>0.0</td>\n",
       "      <td>0.0</td>\n",
       "      <td>0.0</td>\n",
       "      <td>0.0</td>\n",
       "      <td>0.0</td>\n",
       "      <td>0.0</td>\n",
       "      <td>0.0</td>\n",
       "      <td>...</td>\n",
       "      <td>0.000000</td>\n",
       "      <td>0.000000</td>\n",
       "      <td>0.000000</td>\n",
       "      <td>0.000000</td>\n",
       "      <td>0.000000</td>\n",
       "      <td>0.000000</td>\n",
       "      <td>0.0</td>\n",
       "      <td>0.0</td>\n",
       "      <td>0.0</td>\n",
       "      <td>0.0</td>\n",
       "    </tr>\n",
       "    <tr>\n",
       "      <th>25%</th>\n",
       "      <td>2.000000</td>\n",
       "      <td>0.0</td>\n",
       "      <td>0.0</td>\n",
       "      <td>0.0</td>\n",
       "      <td>0.0</td>\n",
       "      <td>0.0</td>\n",
       "      <td>0.0</td>\n",
       "      <td>0.0</td>\n",
       "      <td>0.0</td>\n",
       "      <td>0.0</td>\n",
       "      <td>...</td>\n",
       "      <td>0.000000</td>\n",
       "      <td>0.000000</td>\n",
       "      <td>0.000000</td>\n",
       "      <td>0.000000</td>\n",
       "      <td>0.000000</td>\n",
       "      <td>0.000000</td>\n",
       "      <td>0.0</td>\n",
       "      <td>0.0</td>\n",
       "      <td>0.0</td>\n",
       "      <td>0.0</td>\n",
       "    </tr>\n",
       "    <tr>\n",
       "      <th>50%</th>\n",
       "      <td>4.000000</td>\n",
       "      <td>0.0</td>\n",
       "      <td>0.0</td>\n",
       "      <td>0.0</td>\n",
       "      <td>0.0</td>\n",
       "      <td>0.0</td>\n",
       "      <td>0.0</td>\n",
       "      <td>0.0</td>\n",
       "      <td>0.0</td>\n",
       "      <td>0.0</td>\n",
       "      <td>...</td>\n",
       "      <td>0.000000</td>\n",
       "      <td>0.000000</td>\n",
       "      <td>0.000000</td>\n",
       "      <td>0.000000</td>\n",
       "      <td>0.000000</td>\n",
       "      <td>0.000000</td>\n",
       "      <td>0.0</td>\n",
       "      <td>0.0</td>\n",
       "      <td>0.0</td>\n",
       "      <td>0.0</td>\n",
       "    </tr>\n",
       "    <tr>\n",
       "      <th>75%</th>\n",
       "      <td>7.000000</td>\n",
       "      <td>0.0</td>\n",
       "      <td>0.0</td>\n",
       "      <td>0.0</td>\n",
       "      <td>0.0</td>\n",
       "      <td>0.0</td>\n",
       "      <td>0.0</td>\n",
       "      <td>0.0</td>\n",
       "      <td>0.0</td>\n",
       "      <td>0.0</td>\n",
       "      <td>...</td>\n",
       "      <td>0.000000</td>\n",
       "      <td>0.000000</td>\n",
       "      <td>0.000000</td>\n",
       "      <td>0.000000</td>\n",
       "      <td>0.000000</td>\n",
       "      <td>0.000000</td>\n",
       "      <td>0.0</td>\n",
       "      <td>0.0</td>\n",
       "      <td>0.0</td>\n",
       "      <td>0.0</td>\n",
       "    </tr>\n",
       "    <tr>\n",
       "      <th>max</th>\n",
       "      <td>9.000000</td>\n",
       "      <td>0.0</td>\n",
       "      <td>0.0</td>\n",
       "      <td>0.0</td>\n",
       "      <td>0.0</td>\n",
       "      <td>0.0</td>\n",
       "      <td>0.0</td>\n",
       "      <td>0.0</td>\n",
       "      <td>0.0</td>\n",
       "      <td>0.0</td>\n",
       "      <td>...</td>\n",
       "      <td>254.000000</td>\n",
       "      <td>254.000000</td>\n",
       "      <td>253.000000</td>\n",
       "      <td>253.000000</td>\n",
       "      <td>254.000000</td>\n",
       "      <td>62.000000</td>\n",
       "      <td>0.0</td>\n",
       "      <td>0.0</td>\n",
       "      <td>0.0</td>\n",
       "      <td>0.0</td>\n",
       "    </tr>\n",
       "  </tbody>\n",
       "</table>\n",
       "<p>8 rows × 785 columns</p>\n",
       "</div>"
      ],
      "text/plain": [
       "                  5        0      0.1      0.2      0.3      0.4      0.5  \\\n",
       "count  59999.000000  59999.0  59999.0  59999.0  59999.0  59999.0  59999.0   \n",
       "mean       4.453924      0.0      0.0      0.0      0.0      0.0      0.0   \n",
       "std        2.889294      0.0      0.0      0.0      0.0      0.0      0.0   \n",
       "min        0.000000      0.0      0.0      0.0      0.0      0.0      0.0   \n",
       "25%        2.000000      0.0      0.0      0.0      0.0      0.0      0.0   \n",
       "50%        4.000000      0.0      0.0      0.0      0.0      0.0      0.0   \n",
       "75%        7.000000      0.0      0.0      0.0      0.0      0.0      0.0   \n",
       "max        9.000000      0.0      0.0      0.0      0.0      0.0      0.0   \n",
       "\n",
       "           0.6      0.7      0.8  ...         0.608         0.609  \\\n",
       "count  59999.0  59999.0  59999.0  ...  59999.000000  59999.000000   \n",
       "mean       0.0      0.0      0.0  ...      0.200437      0.088868   \n",
       "std        0.0      0.0      0.0  ...      6.042522      3.956222   \n",
       "min        0.0      0.0      0.0  ...      0.000000      0.000000   \n",
       "25%        0.0      0.0      0.0  ...      0.000000      0.000000   \n",
       "50%        0.0      0.0      0.0  ...      0.000000      0.000000   \n",
       "75%        0.0      0.0      0.0  ...      0.000000      0.000000   \n",
       "max        0.0      0.0      0.0  ...    254.000000    254.000000   \n",
       "\n",
       "              0.610         0.611         0.612         0.613    0.614  \\\n",
       "count  59999.000000  59999.000000  59999.000000  59999.000000  59999.0   \n",
       "mean       0.045634      0.019284      0.015117      0.002000      0.0   \n",
       "std        2.839868      1.686784      1.678297      0.346603      0.0   \n",
       "min        0.000000      0.000000      0.000000      0.000000      0.0   \n",
       "25%        0.000000      0.000000      0.000000      0.000000      0.0   \n",
       "50%        0.000000      0.000000      0.000000      0.000000      0.0   \n",
       "75%        0.000000      0.000000      0.000000      0.000000      0.0   \n",
       "max      253.000000    253.000000    254.000000     62.000000      0.0   \n",
       "\n",
       "         0.615    0.616    0.617  \n",
       "count  59999.0  59999.0  59999.0  \n",
       "mean       0.0      0.0      0.0  \n",
       "std        0.0      0.0      0.0  \n",
       "min        0.0      0.0      0.0  \n",
       "25%        0.0      0.0      0.0  \n",
       "50%        0.0      0.0      0.0  \n",
       "75%        0.0      0.0      0.0  \n",
       "max        0.0      0.0      0.0  \n",
       "\n",
       "[8 rows x 785 columns]"
      ]
     },
     "execution_count": 4,
     "metadata": {},
     "output_type": "execute_result"
    }
   ],
   "source": [
    "# Getting some stats on the data\n",
    "train_data.describe()"
   ]
  },
  {
   "cell_type": "markdown",
   "id": "f8f0d479",
   "metadata": {},
   "source": [
    "### Selecting X and y values from the Training dataset"
   ]
  },
  {
   "cell_type": "code",
   "execution_count": 5,
   "id": "cdb9630f",
   "metadata": {},
   "outputs": [
    {
     "name": "stdout",
     "output_type": "stream",
     "text": [
      "Xshape (59999, 784) yshape (59999,)\n"
     ]
    }
   ],
   "source": [
    "# X / independent values everything except the first column\n",
    "X = train_data.iloc[: , 1:].values\n",
    "# y values will only have the first column which is labels of the numbers\n",
    "y = train_data.iloc[:, 0].values\n",
    "\n",
    "#Printing the shape of the training data\n",
    "print('Xshape', X.shape, 'yshape', y.shape)"
   ]
  },
  {
   "cell_type": "markdown",
   "id": "53f9a2ef",
   "metadata": {},
   "source": [
    "### Use the RandomForestClassifier built into sklearn to create a classification model"
   ]
  },
  {
   "cell_type": "code",
   "execution_count": 6,
   "id": "ced3cde3",
   "metadata": {},
   "outputs": [
    {
     "name": "stdout",
     "output_type": "stream",
     "text": [
      "Accuracy RandomForest:  0.9990166502775046\n"
     ]
    }
   ],
   "source": [
    "# Definng the random forest classifier\n",
    "r=42\n",
    "ensemble_RF = RandomForestClassifier(n_estimators = 10, random_state=r, criterion='gini')\n",
    "ensemble_RF.fit(X, y)\n",
    "# printing the score\n",
    "print('Accuracy RandomForest: ', ensemble_RF.score(X, y))\n",
    "\n"
   ]
  },
  {
   "cell_type": "markdown",
   "id": "b49998c5",
   "metadata": {},
   "source": [
    "### Pick one parameter to tune, and explain why you chose this parameter.\n",
    "\n",
    "I have chosen two parameter for tuning here. criterion and n_estimator. I have chosen criterion to see the impact it has when you change the split / quality of split. The n_estimator is selected to see how it impacts the accuracy when the number of estimators trees in the forest are increased.\n",
    "\n",
    "I am going to use the GridSearchCV function to pass on the different parameter values. For criterion, I am going to use gini and entropy methods where as for n_estimators I have selected 50 and 100. The n_estomators are limited due to the performance on the system but potentially that can be incresed to the optimum number on a powerful computer\n",
    "\n",
    "Once the GridSearchCV gives me best parameters, I have then recalculated the accuracy scores"
   ]
  },
  {
   "cell_type": "code",
   "execution_count": 7,
   "id": "43aee6f0",
   "metadata": {},
   "outputs": [],
   "source": [
    "# Create the parameter list for GridSearchCV\n",
    "parameters = [{'criterion' : ['gini'], 'n_estimators' : [50, 100]},\n",
    "              {'criterion' : ['entropy'], 'n_estimators' : [50, 100]}]\n",
    "\n",
    "# Create a grid search variable / object for our RandomForest estmator\n",
    "grid_search = GridSearchCV(estimator=ensemble_RF,\n",
    "                          param_grid=parameters,\n",
    "                          scoring = 'accuracy',\n",
    "                          cv=10,\n",
    "                          n_jobs= -1)"
   ]
  },
  {
   "cell_type": "code",
   "execution_count": 8,
   "id": "beaa0a4b",
   "metadata": {},
   "outputs": [],
   "source": [
    "# Fit X and y data\n",
    "grid_search = grid_search.fit(X, y)"
   ]
  },
  {
   "cell_type": "code",
   "execution_count": 9,
   "id": "408d860f",
   "metadata": {},
   "outputs": [
    {
     "data": {
      "text/plain": [
       "{'criterion': 'gini', 'n_estimators': 100}"
      ]
     },
     "execution_count": 9,
     "metadata": {},
     "output_type": "execute_result"
    }
   ],
   "source": [
    "# Printing the best parameters values from our list given\n",
    "grid_search.best_params_"
   ]
  },
  {
   "cell_type": "markdown",
   "id": "5ae64bac",
   "metadata": {},
   "source": [
    "### Choose which value for the parameter to set for testing on the test data and explain why.\n",
    "As you can see from the above cell 'best_params_', it has given me the values for criterion and n_estimator as gini and 100. So I have run it again for the these selected parameters."
   ]
  },
  {
   "cell_type": "code",
   "execution_count": 10,
   "id": "7b89a116",
   "metadata": {},
   "outputs": [
    {
     "name": "stdout",
     "output_type": "stream",
     "text": [
      "Accuracy RandomForest:  1.0\n"
     ]
    }
   ],
   "source": [
    "# Now run the Random Forest againa and print the score to see any possible improvements\n",
    "# Definng the random forest classifier\n",
    "r=42\n",
    "ensemble_RF = RandomForestClassifier(n_estimators = 100, random_state=r, criterion='gini')\n",
    "ensemble_RF.fit(X, y)\n",
    "# printing the score\n",
    "print('Accuracy RandomForest: ', ensemble_RF.score(X, y))"
   ]
  },
  {
   "cell_type": "markdown",
   "id": "54d63614",
   "metadata": {},
   "source": [
    "#### Loading the test data\n"
   ]
  },
  {
   "cell_type": "code",
   "execution_count": 11,
   "id": "4717df84",
   "metadata": {},
   "outputs": [],
   "source": [
    "# load our dataset\n",
    "test_data = pd.read_csv('mnist_test.csv')"
   ]
  },
  {
   "cell_type": "code",
   "execution_count": 12,
   "id": "ab3c44c5",
   "metadata": {},
   "outputs": [
    {
     "name": "stdout",
     "output_type": "stream",
     "text": [
      "Xshape (9999, 784) yshape (9999,)\n",
      "[[0 0 0 ... 0 0 0]\n",
      " [0 0 0 ... 0 0 0]\n",
      " [0 0 0 ... 0 0 0]\n",
      " ...\n",
      " [0 0 0 ... 0 0 0]\n",
      " [0 0 0 ... 0 0 0]\n",
      " [0 0 0 ... 0 0 0]]\n"
     ]
    }
   ],
   "source": [
    "# Select X and y values\n",
    "X_test = test_data.iloc[: , 1:].values\n",
    "y_test = test_data.iloc[:, 0].values\n",
    "#y = y.reshape(-1, 1)\n",
    "# printing the shape\n",
    "print('Xshape', X_test.shape, 'yshape', y_test.shape)\n",
    "print(X)"
   ]
  },
  {
   "cell_type": "code",
   "execution_count": 13,
   "id": "2f577c68",
   "metadata": {},
   "outputs": [],
   "source": [
    "# Generating y predictions\n",
    "y_pred = ensemble_RF.predict(X_test)"
   ]
  },
  {
   "cell_type": "markdown",
   "id": "197de79f",
   "metadata": {},
   "source": [
    "### Print the confusion matrix for your Random Forest model on the test set"
   ]
  },
  {
   "cell_type": "code",
   "execution_count": 14,
   "id": "45141cdb",
   "metadata": {},
   "outputs": [
    {
     "data": {
      "text/plain": [
       "<sklearn.metrics._plot.confusion_matrix.ConfusionMatrixDisplay at 0x1950ac24130>"
      ]
     },
     "execution_count": 14,
     "metadata": {},
     "output_type": "execute_result"
    },
    {
     "data": {
      "image/png": "[encoded data removed]",
      "text/plain": [
       "<Figure size 1080x720 with 2 Axes>"
      ]
     },
     "metadata": {
      "needs_background": "light"
     },
     "output_type": "display_data"
    }
   ],
   "source": [
    "# Creating a classes list to better display the columns and indexes\n",
    "\n",
    "cm = confusion_matrix(y_test, y_pred)\n",
    "#cm_df = pd.DataFrame(cm, columns=classes, index = classes)\n",
    "disp = ConfusionMatrixDisplay(confusion_matrix=cm)\n",
    "fig, ax = plt.subplots(figsize =(15, 10))\n",
    "disp.plot(ax = ax)"
   ]
  },
  {
   "cell_type": "markdown",
   "id": "60b0dc4b",
   "metadata": {},
   "source": [
    "### Report which classes the model struggles with the most\n",
    "As per the results below, it shows that the classes 5 has struggled the most with the lowest f1_score\n",
    "\n",
    "### Please note that I have discussed this with Alfred and he recommended that I answer this question by calculating the f1_score"
   ]
  },
  {
   "cell_type": "code",
   "execution_count": 15,
   "id": "e25f0adb",
   "metadata": {},
   "outputs": [
    {
     "data": {
      "text/plain": [
       "1    0.988090\n",
       "0    0.976791\n",
       "6    0.974519\n",
       "4    0.971516\n",
       "7    0.968719\n",
       "2    0.965717\n",
       "5    0.965517\n",
       "3    0.959960\n",
       "9    0.955224\n",
       "8    0.955178\n",
       "dtype: float64"
      ]
     },
     "execution_count": 15,
     "metadata": {},
     "output_type": "execute_result"
    }
   ],
   "source": [
    "# Calculating the f1_score to find out which classes will struggle the most\n",
    "f1score = f1_score(y_test, y_pred, average = None)\n",
    "# Defining the index to display it with pandas series\n",
    "classes = ['0', '1', '2', '3', '4', '5', '6', '7', '8', '9']\n",
    "# Defining pandas dataframe to display the results better and sorting it in descending order\n",
    "f1_score_pd = pd.Series(f1score, index = classes).sort_values(ascending=False)\n",
    "# Displaying results\n",
    "f1_score_pd"
   ]
  },
  {
   "cell_type": "code",
   "execution_count": 16,
   "id": "270a5161",
   "metadata": {},
   "outputs": [
    {
     "name": "stdout",
     "output_type": "stream",
     "text": [
      "              precision    recall  f1-score   support\n",
      "\n",
      "           0     0.9661    0.9878    0.9768       980\n",
      "           1     0.9894    0.9868    0.9881      1135\n",
      "           2     0.9625    0.9690    0.9657      1032\n",
      "           3     0.9585    0.9614    0.9600      1010\n",
      "           4     0.9705    0.9725    0.9715       982\n",
      "           5     0.9738    0.9574    0.9655       892\n",
      "           6     0.9710    0.9781    0.9745       958\n",
      "           7     0.9725    0.9649    0.9687      1027\n",
      "           8     0.9586    0.9517    0.9552       974\n",
      "           9     0.9590    0.9514    0.9552      1009\n",
      "\n",
      "    accuracy                         0.9684      9999\n",
      "   macro avg     0.9682    0.9681    0.9681      9999\n",
      "weighted avg     0.9684    0.9684    0.9684      9999\n",
      "\n"
     ]
    }
   ],
   "source": [
    "# Printing the Classification Report\n",
    "# This report gives us details about all the scores that have been asked in the next question\n",
    "# It gives us scores accross individual classes as well as the global scores\n",
    "cr = classification_report(y_test, y_pred, digits = 4)\n",
    "print(cr)"
   ]
  },
  {
   "cell_type": "markdown",
   "id": "5c367989",
   "metadata": {},
   "source": [
    "### Report the accuracy, precision, recall, and f1-score\n",
    "Please find the details of each of the scores here. I have used average = 'micro' to get the global scores and not the scores for each class.\n",
    "The classification report displayed in the cell above also confirms the same results"
   ]
  },
  {
   "cell_type": "code",
   "execution_count": 17,
   "id": "65aba0ab",
   "metadata": {},
   "outputs": [
    {
     "name": "stdout",
     "output_type": "stream",
     "text": [
      "Accuracy score: 0.9683968396839684\n",
      "Precision Score: 0.9683968396839684\n",
      "Recall Score: 0.9683968396839684\n",
      "f1 Score: 0.9683968396839684\n"
     ]
    }
   ],
   "source": [
    "# Calculating the scores\n",
    "acc = accuracy_score(y_test, y_pred)\n",
    "prc = precision_score(y_test, y_pred, average='micro')\n",
    "recl = recall_score(y_test, y_pred, average='micro')\n",
    "fone = f1_score(y_test, y_pred, average='micro')\n",
    "\n",
    "# Printing the scores\n",
    "print(f'Accuracy score: {acc}')\n",
    "print(f'Precision Score: {prc}')\n",
    "print(f'Recall Score: {recl}')\n",
    "print(f'f1 Score: {fone}')\n"
   ]
  },
  {
   "cell_type": "code",
   "execution_count": null,
   "id": "505e22e0",
   "metadata": {},
   "outputs": [],
   "source": []
  }
 ],
 "metadata": {
  "kernelspec": {
   "display_name": "Python 3 (ipykernel)",
   "language": "python",
   "name": "python3"
  },
  "language_info": {
   "codemirror_mode": {
    "name": "ipython",
    "version": 3
   },
   "file_extension": ".py",
   "mimetype": "text/x-python",
   "name": "python",
   "nbconvert_exporter": "python",
   "pygments_lexer": "ipython3",
   "version": "3.9.12"
  }
 },
 "nbformat": 4,
 "nbformat_minor": 5
}
